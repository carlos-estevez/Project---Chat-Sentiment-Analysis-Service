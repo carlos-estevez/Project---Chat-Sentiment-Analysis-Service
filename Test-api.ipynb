{
 "cells": [
  {
   "cell_type": "code",
   "execution_count": 28,
   "metadata": {},
   "outputs": [],
   "source": [
    "import requests"
   ]
  },
  {
   "cell_type": "code",
   "execution_count": null,
   "metadata": {},
   "outputs": [],
   "source": []
  },
  {
   "cell_type": "code",
   "execution_count": 41,
   "metadata": {},
   "outputs": [
    {
     "data": {
      "text/plain": [
       "'New user created. Name: pepe'"
      ]
     },
     "execution_count": 41,
     "metadata": {},
     "output_type": "execute_result"
    }
   ],
   "source": [
    "url = \"http://localhost:3000/user/create/pepe\"\n",
    "res = requests.get(url)\n",
    "res.json()"
   ]
  },
  {
   "cell_type": "code",
   "execution_count": null,
   "metadata": {},
   "outputs": [],
   "source": []
  },
  {
   "cell_type": "code",
   "execution_count": 72,
   "metadata": {},
   "outputs": [
    {
     "data": {
      "text/plain": [
       "'User already exists. Please, try with other name'"
      ]
     },
     "execution_count": 72,
     "metadata": {},
     "output_type": "execute_result"
    }
   ],
   "source": [
    "url = \"http://localhost:3000/user/create/carlos\"\n",
    "res = requests.get(url)\n",
    "res.json()"
   ]
  },
  {
   "cell_type": "markdown",
   "metadata": {},
   "source": [
    "### 1. Insert username in DataBase"
   ]
  },
  {
   "cell_type": "code",
   "execution_count": 30,
   "metadata": {},
   "outputs": [],
   "source": [
    "personajes = [{\"name\":\"Abraham Lincoln\"},\n",
    "              {\"name\":\"Adolf Hitler\"},\n",
    "              {\"name\":\"Adolph Gottlieb\"},\n",
    "              {\"name\":\"Agatha Christie\"},\n",
    "              {\"name\":\"Al Capone\"},\n",
    "              {\"name\":\"Albert Einstein\"},\n",
    "              {\"name\":\"Alfred Hitchcock\"},\n",
    "              {\"name\":\"Bon Jovi\"},\n",
    "              {\"name\":\"Bono\"},\n",
    "              {\"name\":\"Charles Manson\"},\n",
    "              {\"name\":\"Coco Chanel\"},\n",
    "              {\"name\":\"Donald Trump\"},\n",
    "              {\"name\":\"Elon Musk\"},\n",
    "              {\"name\":\"Elton John\"},\n",
    "              {\"name\":\"Francis de Sales\"}]"
   ]
  },
  {
   "cell_type": "code",
   "execution_count": null,
   "metadata": {},
   "outputs": [],
   "source": []
  },
  {
   "cell_type": "code",
   "execution_count": 54,
   "metadata": {},
   "outputs": [
    {
     "name": "stdout",
     "output_type": "stream",
     "text": [
      "User already exists. Please, try with other name\n",
      "User already exists. Please, try with other name\n",
      "User already exists. Please, try with other name\n",
      "User already exists. Please, try with other name\n",
      "User already exists. Please, try with other name\n",
      "User already exists. Please, try with other name\n",
      "User already exists. Please, try with other name\n",
      "User already exists. Please, try with other name\n",
      "User already exists. Please, try with other name\n",
      "User already exists. Please, try with other name\n",
      "User already exists. Please, try with other name\n",
      "User already exists. Please, try with other name\n",
      "User already exists. Please, try with other name\n",
      "User already exists. Please, try with other name\n",
      "User already exists. Please, try with other name\n"
     ]
    }
   ],
   "source": [
    "for nombres in personajes:\n",
    "    url = f\"http://localhost:3000/user/create/{nombres['name']}\"\n",
    "    res = requests.get(url)\n",
    "    res.json()\n",
    "    print(res.json())"
   ]
  },
  {
   "cell_type": "code",
   "execution_count": null,
   "metadata": {},
   "outputs": [],
   "source": []
  },
  {
   "cell_type": "markdown",
   "metadata": {},
   "source": [
    "### 2. Create a chat"
   ]
  },
  {
   "cell_type": "code",
   "execution_count": null,
   "metadata": {},
   "outputs": [],
   "source": []
  },
  {
   "cell_type": "code",
   "execution_count": 74,
   "metadata": {},
   "outputs": [
    {
     "name": "stdout",
     "output_type": "stream",
     "text": [
      "{'_id': {'$oid': '5f0ec754abe0b87b7bb20699'}, 'chat_name': 'Presidential Group'}\n",
      "{'_id': {'$oid': '5f0ec754abe0b87b7bb2069a'}, 'chat_name': 'Superior Intelligence'}\n",
      "{'_id': {'$oid': '5f0ec754abe0b87b7bb2069b'}, 'chat_name': 'Rockstars'}\n"
     ]
    }
   ],
   "source": [
    "chats=[\"Presidential Group\",\"Superior Intelligence\",\"Rockstars\"]\n",
    "for chat in chats:\n",
    "    url = f\"http://localhost:3000/chat/create/{chat}\"\n",
    "    res=requests.get(url)\n",
    "    print(res.json())"
   ]
  },
  {
   "cell_type": "markdown",
   "metadata": {},
   "source": [
    "### 3. Add user to the chat "
   ]
  },
  {
   "cell_type": "code",
   "execution_count": null,
   "metadata": {},
   "outputs": [],
   "source": []
  },
  {
   "cell_type": "code",
   "execution_count": 75,
   "metadata": {},
   "outputs": [
    {
     "name": "stdout",
     "output_type": "stream",
     "text": [
      "{'chat_name': 'Presidential Group', 'participants': ['Donald Trump']}\n"
     ]
    }
   ],
   "source": [
    "presidents=[\"Pedro Sánchez\",\"Donald Trump\"]\n",
    "for name in presidents:\n",
    "    url= f\"http://localhost:3000/chat/Presidential Group/adduser/{name}\"\n",
    "    res=requests.get(url)\n",
    "print(res.json())"
   ]
  },
  {
   "cell_type": "code",
   "execution_count": 77,
   "metadata": {},
   "outputs": [
    {
     "name": "stdout",
     "output_type": "stream",
     "text": [
      "{'chat_name': 'Superior Intelligence', 'participants': ['Albert Einstein', 'Elon Musk', 'Adolph Gottlieb']}\n"
     ]
    }
   ],
   "source": [
    "smartpeople=[\"Albert Einstein\",\"Elon Musk\",\"Adolph Gottlieb\"]\n",
    "for name in smartpeople:\n",
    "    url= f\"http://localhost:3000/chat/Superior Intelligence/adduser/{name}\"\n",
    "    res=requests.get(url)\n",
    "print(res.json())"
   ]
  },
  {
   "cell_type": "code",
   "execution_count": null,
   "metadata": {},
   "outputs": [],
   "source": [
    "rockstars=[\"Bono\",\"Bon Jovi\",\"Charles Manson\"]\n",
    "for name in smartpeople:\n",
    "    url= f\"http://localhost:3000/chat/Rockstars/adduser/{name}\"\n",
    "    res=requests.get(url)\n",
    "print(res.json())"
   ]
  },
  {
   "cell_type": "markdown",
   "metadata": {},
   "source": [
    "### 4. Add messages to chat"
   ]
  },
  {
   "cell_type": "code",
   "execution_count": 69,
   "metadata": {},
   "outputs": [
    {
     "name": "stdout",
     "output_type": "stream",
     "text": [
      "{\"chat_name\": \"Before Sunrise\", \"name\": \"Adolf Hitler\", \"message\": \"Everything that's interesting costs a little bit of money. I'm telling you.\"}\n",
      "{\"chat_name\": \"Before Sunrise\", \"name\": \"Adolf Hitler\", \"message\": \"I don't know, I think that if I could just accept the fact that my life is supposed to be difficult. You know, that's what to be expected, then I might not get so pissed-off about it and I'll just be glad when something nice happens.\"}\n",
      "{\"chat_name\": \"Before Sunrise\", \"name\": \"Adolf Hitler\", \"message\": \"People always talk about how love is this totally unselfish, giving thing, but if you think about it, there's nothing more selfish.\"}\n"
     ]
    }
   ],
   "source": [
    "Trump_text=[\"Everything that's interesting costs a little bit of money. I'm telling you.\",\n",
    "          \"I don't know, I think that if I could just accept the fact that my life is supposed to be difficult. You know, that's what to be expected, then I might not get so pissed-off about it and I'll just be glad when something nice happens.\",\n",
    "          \"People always talk about how love is this totally unselfish, giving thing, but if you think about it, there's nothing more selfish.\"]\n",
    "for message in Trump_text:\n",
    "    url= f\"http://localhost:3000/chat/Before Sunrise/user/Adolf Hitler/addmessage/{message}\"\n",
    "    res=requests.get(url)\n",
    "    print(res.text)"
   ]
  },
  {
   "cell_type": "code",
   "execution_count": null,
   "metadata": {},
   "outputs": [],
   "source": [
    "Einstein_text=[\"Everything that's interesting costs a little bit of money. I'm telling you.\",\n",
    "          \"I don't know, I think that if I could just accept the fact that my life is supposed to be difficult. You know, that's what to be expected, then I might not get so pissed-off about it and I'll just be glad when something nice happens.\",\n",
    "          \"People always talk about how love is this totally unselfish, giving thing, but if you think about it, there's nothing more selfish.\"]\n",
    "for message in Einstein_text:\n",
    "    url= f\"http://localhost:3000/chat/Before Sunrise/user/Adolf Hitler/addmessage/{message}\"\n",
    "    res=requests.get(url)\n",
    "    print(res.text)"
   ]
  },
  {
   "cell_type": "code",
   "execution_count": null,
   "metadata": {},
   "outputs": [],
   "source": [
    "Manson_text=[\"Everything that's interesting costs a little bit of money. I'm telling you.\",\n",
    "          \"I don't know, I think that if I could just accept the fact that my life is supposed to be difficult. You know, that's what to be expected, then I might not get so pissed-off about it and I'll just be glad when something nice happens.\",\n",
    "          \"People always talk about how love is this totally unselfish, giving thing, but if you think about it, there's nothing more selfish.\"]\n",
    "for message in Manson_text:\n",
    "    url= f\"http://localhost:3000/chat/Before Sunrise/user/Adolf Hitler/addmessage/{message}\"\n",
    "    res=requests.get(url)\n",
    "    print(res.text)"
   ]
  },
  {
   "cell_type": "markdown",
   "metadata": {},
   "source": [
    "### 5. Show all the messages of the conversations"
   ]
  },
  {
   "cell_type": "code",
   "execution_count": 71,
   "metadata": {},
   "outputs": [
    {
     "name": "stdout",
     "output_type": "stream",
     "text": [
      "{'chat_name': 'Before Sunrise', 'message': [\"Everything that's interesting costs a little bit of money. I'm telling you.\", \"I don't know, I think that if I could just accept the fact that my life is supposed to be difficult. You know, that's what to be expected, then I might not get so pissed-off about it and I'll just be glad when something nice happens.\", \"People always talk about how love is this totally unselfish, giving thing, but if you think about it, there's nothing more selfish.\"]}\n"
     ]
    }
   ],
   "source": [
    "url = f\"http://localhost:3000/chat/{'Before Sunrise'}/list\"\n",
    "res = requests.get(url)\n",
    "print(res.json())"
   ]
  }
 ],
 "metadata": {
  "kernelspec": {
   "display_name": "Python 3",
   "language": "python",
   "name": "python3"
  },
  "language_info": {
   "codemirror_mode": {
    "name": "ipython",
    "version": 3
   },
   "file_extension": ".py",
   "mimetype": "text/x-python",
   "name": "python",
   "nbconvert_exporter": "python",
   "pygments_lexer": "ipython3",
   "version": "3.7.7"
  }
 },
 "nbformat": 4,
 "nbformat_minor": 4
}
