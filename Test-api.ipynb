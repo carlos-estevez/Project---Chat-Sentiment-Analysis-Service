{
 "cells": [
  {
   "cell_type": "code",
   "execution_count": 1,
   "metadata": {},
   "outputs": [],
   "source": [
    "import requests"
   ]
  },
  {
   "cell_type": "code",
   "execution_count": 27,
   "metadata": {},
   "outputs": [
    {
     "name": "stdout",
     "output_type": "stream",
     "text": [
      "<Response [500]>\n"
     ]
    }
   ],
   "source": [
    "url = \"http://localhost:3000/user/create/carlos\"\n",
    "res = requests.get(url)\n",
    "print(res)"
   ]
  },
  {
   "cell_type": "markdown",
   "metadata": {},
   "source": [
    "### 1. Insert username in DataBase"
   ]
  },
  {
   "cell_type": "code",
   "execution_count": 7,
   "metadata": {},
   "outputs": [],
   "source": [
    "personajes = [{\"name\":\"Abraham Lincoln\"},\n",
    "              {\"name\":\"Adolf Hitler\"},\n",
    "              {\"name\":\"Adolph Gottlieb\"},\n",
    "              {\"name\":\"Agatha Christie\"},\n",
    "              {\"name\":\"Al Capone\"},\n",
    "              {\"name\":\"Albert Einstein\"},\n",
    "              {\"name\":\"Alfred Hitchcock\"},\n",
    "              {\"name\":\"Bon Jovi\"},\n",
    "              {\"name\":\"Bono\"},\n",
    "              {\"name\":\"Charles Manson\"},\n",
    "              {\"name\":\"Coco Chanel\"},\n",
    "              {\"name\":\"Donald Trump\"},\n",
    "              {\"name\":\"Elon Musk\"},\n",
    "              {\"name\":\"Elton John\"},\n",
    "              {\"name\":\"Francis de Sales\"}]"
   ]
  },
  {
   "cell_type": "code",
   "execution_count": 23,
   "metadata": {},
   "outputs": [
    {
     "name": "stdout",
     "output_type": "stream",
     "text": [
      "<Response [500]>\n",
      "<Response [500]>\n",
      "<Response [500]>\n",
      "<Response [500]>\n",
      "<Response [500]>\n",
      "<Response [500]>\n",
      "<Response [500]>\n",
      "<Response [500]>\n",
      "<Response [500]>\n",
      "<Response [500]>\n",
      "<Response [500]>\n",
      "<Response [500]>\n",
      "<Response [500]>\n",
      "<Response [500]>\n",
      "<Response [500]>\n"
     ]
    }
   ],
   "source": [
    "for nombres in personajes:\n",
    "    f\"http://localhost:3000/user/create/{nombres}\"\n",
    "    res = requests.get(url)\n",
    "    print(res)"
   ]
  },
  {
   "cell_type": "code",
   "execution_count": null,
   "metadata": {},
   "outputs": [],
   "source": [
    "url_user = \"http://localhost:27017/user/create\"\n",
    "for nombres in personajes: \n",
    "requests.post(url_user, data=nombres)"
   ]
  },
  {
   "cell_type": "markdown",
   "metadata": {},
   "source": [
    "### 2. Insert sentences in DataBase"
   ]
  },
  {
   "cell_type": "code",
   "execution_count": null,
   "metadata": {},
   "outputs": [],
   "source": []
  }
 ],
 "metadata": {
  "kernelspec": {
   "display_name": "Python 3",
   "language": "python",
   "name": "python3"
  },
  "language_info": {
   "codemirror_mode": {
    "name": "ipython",
    "version": 3
   },
   "file_extension": ".py",
   "mimetype": "text/x-python",
   "name": "python",
   "nbconvert_exporter": "python",
   "pygments_lexer": "ipython3",
   "version": "3.7.7"
  }
 },
 "nbformat": 4,
 "nbformat_minor": 4
}
