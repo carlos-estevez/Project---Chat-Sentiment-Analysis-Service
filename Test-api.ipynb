{
 "cells": [
  {
   "cell_type": "markdown",
   "metadata": {},
   "source": [
    "# Famous Personalities"
   ]
  },
  {
   "cell_type": "code",
   "execution_count": null,
   "metadata": {},
   "outputs": [],
   "source": [
    "import requests"
   ]
  },
  {
   "cell_type": "markdown",
   "metadata": {},
   "source": [
    "#### First, we test the user/create function and we add a new user called \"pepe\""
   ]
  },
  {
   "cell_type": "code",
   "execution_count": 41,
   "metadata": {},
   "outputs": [
    {
     "data": {
      "text/plain": [
       "'New user created. Name: pepe'"
      ]
     },
     "execution_count": 41,
     "metadata": {},
     "output_type": "execute_result"
    }
   ],
   "source": [
    "url = \"http://localhost:3000/user/create/pepe\"\n",
    "res = requests.get(url)\n",
    "res.json()"
   ]
  },
  {
   "cell_type": "markdown",
   "metadata": {},
   "source": [
    "#### If we try to add the same user, the system will tell you to try again"
   ]
  },
  {
   "cell_type": "code",
   "execution_count": 81,
   "metadata": {},
   "outputs": [
    {
     "data": {
      "text/plain": [
       "'User already exists. Please, try with other name'"
      ]
     },
     "execution_count": 81,
     "metadata": {},
     "output_type": "execute_result"
    }
   ],
   "source": [
    "url = \"http://localhost:3000/user/create/pepe\"\n",
    "res = requests.get(url)\n",
    "res.json()"
   ]
  },
  {
   "cell_type": "markdown",
   "metadata": {},
   "source": [
    "### 1. Insert username in DataBase"
   ]
  },
  {
   "cell_type": "code",
   "execution_count": 30,
   "metadata": {},
   "outputs": [],
   "source": [
    "personajes = [{\"name\":\"Abraham Lincoln\"},\n",
    "              {\"name\":\"Adolf Hitler\"},\n",
    "              {\"name\":\"Adolph Gottlieb\"},\n",
    "              {\"name\":\"Agatha Christie\"},\n",
    "              {\"name\":\"Al Capone\"},\n",
    "              {\"name\":\"Albert Einstein\"},\n",
    "              {\"name\":\"Alfred Hitchcock\"},\n",
    "              {\"name\":\"Bon Jovi\"},\n",
    "              {\"name\":\"Bono\"},\n",
    "              {\"name\":\"Charles Manson\"},\n",
    "              {\"name\":\"Coco Chanel\"},\n",
    "              {\"name\":\"Donald Trump\"},\n",
    "              {\"name\":\"Elon Musk\"},\n",
    "              {\"name\":\"Elton John\"},\n",
    "              {\"name\":\"Francis de Sales\"}]"
   ]
  },
  {
   "cell_type": "markdown",
   "metadata": {},
   "source": [
    "#### These are the users we want to add to the DataBase"
   ]
  },
  {
   "cell_type": "code",
   "execution_count": 54,
   "metadata": {},
   "outputs": [
    {
     "name": "stdout",
     "output_type": "stream",
     "text": [
      "User already exists. Please, try with other name\n",
      "User already exists. Please, try with other name\n",
      "User already exists. Please, try with other name\n",
      "User already exists. Please, try with other name\n",
      "User already exists. Please, try with other name\n",
      "User already exists. Please, try with other name\n",
      "User already exists. Please, try with other name\n",
      "User already exists. Please, try with other name\n",
      "User already exists. Please, try with other name\n",
      "User already exists. Please, try with other name\n",
      "User already exists. Please, try with other name\n",
      "User already exists. Please, try with other name\n",
      "User already exists. Please, try with other name\n",
      "User already exists. Please, try with other name\n",
      "User already exists. Please, try with other name\n"
     ]
    }
   ],
   "source": [
    "for nombres in personajes:\n",
    "    url = f\"http://localhost:3000/user/create/{nombres['name']}\"\n",
    "    res = requests.get(url)\n",
    "    res.json()\n",
    "    print(res.json())"
   ]
  },
  {
   "cell_type": "markdown",
   "metadata": {},
   "source": [
    "#### We run the cell two times so we assure the users are already in the DataBase and the system is running effectively"
   ]
  },
  {
   "cell_type": "markdown",
   "metadata": {},
   "source": [
    "### 2. Create a chat"
   ]
  },
  {
   "cell_type": "markdown",
   "metadata": {},
   "source": [
    "#### We create three chats in order to group our users"
   ]
  },
  {
   "cell_type": "code",
   "execution_count": 74,
   "metadata": {},
   "outputs": [
    {
     "name": "stdout",
     "output_type": "stream",
     "text": [
      "{'_id': {'$oid': '5f0ec754abe0b87b7bb20699'}, 'chat_name': 'Presidential Group'}\n",
      "{'_id': {'$oid': '5f0ec754abe0b87b7bb2069a'}, 'chat_name': 'Superior Intelligence'}\n",
      "{'_id': {'$oid': '5f0ec754abe0b87b7bb2069b'}, 'chat_name': 'Rockstars'}\n"
     ]
    }
   ],
   "source": [
    "chats=[\"Presidential Group\",\"Superior Intelligence\",\"Rockstars\"]\n",
    "for chat in chats:\n",
    "    url = f\"http://localhost:3000/chat/create/{chat}\"\n",
    "    res=requests.get(url)\n",
    "    print(res.json())"
   ]
  },
  {
   "cell_type": "markdown",
   "metadata": {},
   "source": [
    "### 3. Add user to the chat "
   ]
  },
  {
   "cell_type": "markdown",
   "metadata": {},
   "source": [
    "#### As we can see, if we try with a user that is not in the platform, the system will not add its name to the group"
   ]
  },
  {
   "cell_type": "code",
   "execution_count": 75,
   "metadata": {},
   "outputs": [
    {
     "name": "stdout",
     "output_type": "stream",
     "text": [
      "{'chat_name': 'Presidential Group', 'participants': ['Donald Trump']}\n"
     ]
    }
   ],
   "source": [
    "presidents=[\"Pedro Sánchez\",\"Donald Trump\"]\n",
    "for name in presidents:\n",
    "    url= f\"http://localhost:3000/chat/Presidential Group/adduser/{name}\"\n",
    "    res=requests.get(url)\n",
    "print(res.json())"
   ]
  },
  {
   "cell_type": "code",
   "execution_count": 77,
   "metadata": {},
   "outputs": [
    {
     "name": "stdout",
     "output_type": "stream",
     "text": [
      "{'chat_name': 'Superior Intelligence', 'participants': ['Albert Einstein', 'Elon Musk', 'Adolph Gottlieb']}\n"
     ]
    }
   ],
   "source": [
    "smartpeople=[\"Albert Einstein\",\"Elon Musk\",\"Adolph Gottlieb\"]\n",
    "for name in smartpeople:\n",
    "    url= f\"http://localhost:3000/chat/Superior Intelligence/adduser/{name}\"\n",
    "    res=requests.get(url)\n",
    "print(res.json())"
   ]
  },
  {
   "cell_type": "markdown",
   "metadata": {},
   "source": [
    "### 4. Add messages to chat"
   ]
  },
  {
   "cell_type": "code",
   "execution_count": 82,
   "metadata": {},
   "outputs": [
    {
     "name": "stdout",
     "output_type": "stream",
     "text": [
      "{\"chat_name\": \"Presidential Group\", \"name\": \"Donald Trump\", \"message\": \"I have featured and will always continue to feature my name prominently in all my enterprises.\"}\n",
      "{\"chat_name\": \"Presidential Group\", \"name\": \"Donald Trump\", \"message\": \"I look at things for the art sake and the beauty sake and for the deal sake.\"}\n",
      "{\"chat_name\": \"Presidential Group\", \"name\": \"Donald Trump\", \"message\": \"Mayor Koch has stated that hate and rancor should be removed from our hearts. I do not think so.\"}\n",
      "{\"chat_name\": \"Presidential Group\", \"name\": \"Donald Trump\", \"message\": \"Sometimes it pays to be a little wild.\"}\n",
      "{\"chat_name\": \"Presidential Group\", \"name\": \"Donald Trump\", \"message\": \"My philosophy is always to hire the best from the best.\"}\n",
      "{\"chat_name\": \"Presidential Group\", \"name\": \"Donald Trump\", \"message\": \"Deal-making is an ability you're born with. It's in the genes.\"}\n",
      "{\"chat_name\": \"Presidential Group\", \"name\": \"Donald Trump\", \"message\": \"I wasn't satisfied just to earn a good living. I was looking to make a statement.\"}\n",
      "{\"chat_name\": \"Presidential Group\", \"name\": \"Donald Trump\", \"message\": \"The point is that you can't be too greedy.\"}\n",
      "{\"chat_name\": \"Presidential Group\", \"name\": \"Donald Trump\", \"message\": \"In the end, you're measured not by how much you undertake but by what you finally accomplish.\"}\n",
      "{\"chat_name\": \"Presidential Group\", \"name\": \"Donald Trump\", \"message\": \"What I admire most are people who put themselves directly on the line.\"}\n"
     ]
    }
   ],
   "source": [
    "Trump_text = [\n",
    "    \"I have featured and will always continue to feature my name prominently in all my enterprises.\",\n",
    "    \"I look at things for the art sake and the beauty sake and for the deal sake.\",\n",
    "    \"Mayor Koch has stated that hate and rancor should be removed from our hearts. I do not think so.\",\n",
    "    \"Sometimes it pays to be a little wild.\",\n",
    "    \"My philosophy is always to hire the best from the best.\",\n",
    "    \"Deal-making is an ability you're born with. It's in the genes.\",\n",
    "    \"I wasn't satisfied just to earn a good living. I was looking to make a statement.\",\n",
    "    \"The point is that you can't be too greedy.\",\n",
    "    \"In the end, you're measured not by how much you undertake but by what you finally accomplish.\",\n",
    "    \"What I admire most are people who put themselves directly on the line.\"\n",
    "]\n",
    "for message in Trump_text:\n",
    "    url= f\"http://localhost:3000/chat/Presidential Group/user/Donald Trump/addmessage/{message}\"\n",
    "    res=requests.get(url)\n",
    "    print(res.text)"
   ]
  },
  {
   "cell_type": "code",
   "execution_count": 83,
   "metadata": {},
   "outputs": [
    {
     "name": "stdout",
     "output_type": "stream",
     "text": [
      "{\"chat_name\": \"Superior Intelligence\", \"name\": \"Albert Einstein\", \"message\": \"The mass of a body is a measure of its energy content.\"}\n",
      "{\"chat_name\": \"Superior Intelligence\", \"name\": \"Albert Einstein\", \"message\": \"Sometimes one pays most for the things one gets for nothing.\"}\n",
      "{\"chat_name\": \"Superior Intelligence\", \"name\": \"Albert Einstein\", \"message\": \"I refuse to make money out of my science. My laurel is not for sale like so many bales of cotton.\"}\n",
      "{\"chat_name\": \"Superior Intelligence\", \"name\": \"Albert Einstein\", \"message\": \"Life is like riding a bicycle. To keep your balance you must keep moving.\"}\n",
      "{\"chat_name\": \"Superior Intelligence\", \"name\": \"Albert Einstein\", \"message\": \"The really good music, whether of the East or of the West, cannot be analyzed.\"}\n",
      "{\"chat_name\": \"Superior Intelligence\", \"name\": \"Albert Einstein\", \"message\": \"I never think of the future. It comes soon enough.\"}\n",
      "{\"chat_name\": \"Superior Intelligence\", \"name\": \"Albert Einstein\", \"message\": \"Only a life lived for others is a life worthwhile.\"}\n",
      "{\"chat_name\": \"Superior Intelligence\", \"name\": \"Albert Einstein\", \"message\": \"Force always attracts men of low morality.\"}\n",
      "{\"chat_name\": \"Superior Intelligence\", \"name\": \"Albert Einstein\", \"message\": \"All of science is nothing more than the refinement of everyday thinking.\"}\n"
     ]
    }
   ],
   "source": [
    "Einstein_text = [\n",
    "    \"The mass of a body is a measure of its energy content.\",\n",
    "    \"Sometimes one pays most for the things one gets for nothing.\",\n",
    "    \"I refuse to make money out of my science. My laurel is not for sale like so many bales of cotton.\",\n",
    "    \"Life is like riding a bicycle. To keep your balance you must keep moving.\",\n",
    "    \"The really good music, whether of the East or of the West, cannot be analyzed.\",\n",
    "    \"I never think of the future. It comes soon enough.\",\n",
    "    \"Only a life lived for others is a life worthwhile.\",\n",
    "    \"Force always attracts men of low morality.\",\n",
    "    \"All of science is nothing more than the refinement of everyday thinking.\"\n",
    "]\n",
    "for message in Einstein_text:\n",
    "    url= f\"http://localhost:3000/chat/Superior Intelligence/user/Albert Einstein/addmessage/{message}\"\n",
    "    res=requests.get(url)\n",
    "    print(res.text)"
   ]
  },
  {
   "cell_type": "code",
   "execution_count": 84,
   "metadata": {},
   "outputs": [
    {
     "name": "stdout",
     "output_type": "stream",
     "text": [
      "{\"chat_name\": \"Rockstars\", \"name\": \"Charles Manson\", \"message\": \"You know, a long time ago being crazy meant something. Nowadays everybody's crazy.\"}\n",
      "{\"chat_name\": \"Rockstars\", \"name\": \"Charles Manson\", \"message\": \"If you are going to do something, do it well. And leave something witchy.\"}\n",
      "{\"chat_name\": \"Rockstars\", \"name\": \"Charles Manson\", \"message\": \"I was so smart when I was a kid that I learnt that I was dumb fast.\"}\n",
      "{\"chat_name\": \"Rockstars\", \"name\": \"Charles Manson\", \"message\": \"If I had a desire, it would be to be free from desire.\"}\n",
      "{\"chat_name\": \"Rockstars\", \"name\": \"Charles Manson\", \"message\": \"Death is psychosomatic.\"}\n",
      "{\"chat_name\": \"Rockstars\", \"name\": \"Charles Manson\", \"message\": \"There's nothing wrong with being incompetent.\\u2026 It just means you don't have to do as much.\"}\n",
      "{\"chat_name\": \"Rockstars\", \"name\": \"Charles Manson\", \"message\": \"Believe me, if I started murdering people, there'd be none of you left.\"}\n"
     ]
    }
   ],
   "source": [
    "Manson_text = [\n",
    "    \"You know, a long time ago being crazy meant something. Nowadays everybody's crazy.\",\n",
    "    \"If you are going to do something, do it well. And leave something witchy.\",\n",
    "    \"I was so smart when I was a kid that I learnt that I was dumb fast.\",\n",
    "    \"If I had a desire, it would be to be free from desire.\",\n",
    "    \"Death is psychosomatic.\",\n",
    "    \"There's nothing wrong with being incompetent.… It just means you don't have to do as much.\",\n",
    "    \"Believe me, if I started murdering people, there'd be none of you left.\"\n",
    "]\n",
    "for message in Manson_text:\n",
    "    url= f\"http://localhost:3000/chat/Rockstars/user/Charles Manson/addmessage/{message}\"\n",
    "    res=requests.get(url)\n",
    "    print(res.text)"
   ]
  },
  {
   "cell_type": "markdown",
   "metadata": {},
   "source": [
    "#### We could assign directly a name to a group with the text, as we did with Charles Manson"
   ]
  },
  {
   "cell_type": "markdown",
   "metadata": {},
   "source": [
    "### 5. Show all the messages of the conversations"
   ]
  },
  {
   "cell_type": "code",
   "execution_count": 85,
   "metadata": {},
   "outputs": [
    {
     "name": "stdout",
     "output_type": "stream",
     "text": [
      "{'chat_name': 'Presidential Group', 'message': ['I have featured and will always continue to feature my name prominently in all my enterprises.', 'I look at things for the art sake and the beauty sake and for the deal sake.', 'Mayor Koch has stated that hate and rancor should be removed from our hearts. I do not think so.', 'Sometimes it pays to be a little wild.', 'My philosophy is always to hire the best from the best.', \"Deal-making is an ability you're born with. It's in the genes.\", \"I wasn't satisfied just to earn a good living. I was looking to make a statement.\", \"The point is that you can't be too greedy.\", \"In the end, you're measured not by how much you undertake but by what you finally accomplish.\", 'What I admire most are people who put themselves directly on the line.']}\n"
     ]
    }
   ],
   "source": [
    "url = f\"http://localhost:3000/chat/{'Presidential Group'}/list\"\n",
    "res = requests.get(url)\n",
    "print(res.json())"
   ]
  },
  {
   "cell_type": "markdown",
   "metadata": {},
   "source": [
    "#### To see the the quotes from other people in the group we should have followed the previous step\n",
    "\n",
    "#### For the moment, in pure Donald Trump style, he will be the only one speaking"
   ]
  }
 ],
 "metadata": {
  "kernelspec": {
   "display_name": "Python 3",
   "language": "python",
   "name": "python3"
  },
  "language_info": {
   "codemirror_mode": {
    "name": "ipython",
    "version": 3
   },
   "file_extension": ".py",
   "mimetype": "text/x-python",
   "name": "python",
   "nbconvert_exporter": "python",
   "pygments_lexer": "ipython3",
   "version": "3.7.7"
  }
 },
 "nbformat": 4,
 "nbformat_minor": 4
}
